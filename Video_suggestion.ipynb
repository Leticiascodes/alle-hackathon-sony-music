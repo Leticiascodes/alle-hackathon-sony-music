{
 "cells": [
  {
   "cell_type": "code",
   "execution_count": 1,
   "metadata": {},
   "outputs": [],
   "source": [
    "#This code is for suggesting streaming media in our platform\n",
    "import numpy as np\n",
    "import pandas as pd\n",
    "import matplotlib.pyplot as plt"
   ]
  },
  {
   "cell_type": "code",
   "execution_count": null,
   "metadata": {},
   "outputs": [],
   "source": [
    "#This is the beggining code for a LSTM NN for Reccomendations\n",
    "import scipy.sparse as sp\n",
    "from netrex.netrex import FactorizationModel, SequenceModel, generate_sequences\n",
    "from netrex.evaluation import auc_score, mrr_score\n",
    "from lightfm.datasets import fetch_movielens\n",
    "def duo(dataset):\n",
    "    dataset = dataset.copy()\n",
    "    dataset.data = (dataset.data >= 0.0).astype(np.float32)\n",
    "    dataset = dataset.tocsr()\n",
    "    dataset.eliminate_zeros()\n",
    "    return dataset.tocoo()\n",
    "videos = fetch_videos()\n",
    "rate_train, rate_test = videos['train'], videos['test']\n",
    "train, test = duo(videos['train']), duo(movielens['test'])\n",
    "model = FactorizationModel(loss='bpr',n_iter=n_iter, mbedding_dim=embedding_dim, batch_size=minibatch_size, use_cuda=cuda)\n",
    "model.fit(train)"
   ]
  },
  {
   "cell_type": "code",
   "execution_count": null,
   "metadata": {},
   "outputs": [],
   "source": []
  },
  {
   "cell_type": "code",
   "execution_count": null,
   "metadata": {},
   "outputs": [],
   "source": []
  }
 ],
 "metadata": {
  "kernelspec": {
   "display_name": "Python 3",
   "language": "python",
   "name": "python3"
  },
  "language_info": {
   "codemirror_mode": {
    "name": "ipython",
    "version": 3
   },
   "file_extension": ".py",
   "mimetype": "text/x-python",
   "name": "python",
   "nbconvert_exporter": "python",
   "pygments_lexer": "ipython3",
   "version": "3.6.8"
  }
 },
 "nbformat": 4,
 "nbformat_minor": 2
}
